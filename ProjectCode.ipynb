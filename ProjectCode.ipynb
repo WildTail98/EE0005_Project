{
 "cells": [
  {
   "cell_type": "code",
   "execution_count": 1,
   "id": "4164c468",
   "metadata": {},
   "outputs": [
    {
     "ename": "ModuleNotFoundError",
     "evalue": "No module named 'numpy'",
     "output_type": "error",
     "traceback": [
      "\u001b[1;31m---------------------------------------------------------------------------\u001b[0m",
      "\u001b[1;31mModuleNotFoundError\u001b[0m                       Traceback (most recent call last)",
      "\u001b[1;32m~\\AppData\\Local\\Temp/ipykernel_22236/2307402379.py\u001b[0m in \u001b[0;36m<module>\u001b[1;34m\u001b[0m\n\u001b[0;32m      1\u001b[0m \u001b[1;31m# Import Basic Libraries\u001b[0m\u001b[1;33m\u001b[0m\u001b[1;33m\u001b[0m\u001b[0m\n\u001b[1;32m----> 2\u001b[1;33m \u001b[1;32mimport\u001b[0m \u001b[0mnumpy\u001b[0m \u001b[1;32mas\u001b[0m \u001b[0mnp\u001b[0m\u001b[1;33m\u001b[0m\u001b[1;33m\u001b[0m\u001b[0m\n\u001b[0m\u001b[0;32m      3\u001b[0m \u001b[1;32mimport\u001b[0m \u001b[0mpandas\u001b[0m \u001b[1;32mas\u001b[0m \u001b[0mpd\u001b[0m\u001b[1;33m\u001b[0m\u001b[1;33m\u001b[0m\u001b[0m\n\u001b[0;32m      4\u001b[0m \u001b[1;32mimport\u001b[0m \u001b[0mseaborn\u001b[0m \u001b[1;32mas\u001b[0m \u001b[0msb\u001b[0m\u001b[1;33m\u001b[0m\u001b[1;33m\u001b[0m\u001b[0m\n\u001b[0;32m      5\u001b[0m \u001b[1;32mimport\u001b[0m \u001b[0mmatplotlib\u001b[0m\u001b[1;33m.\u001b[0m\u001b[0mpyplot\u001b[0m \u001b[1;32mas\u001b[0m \u001b[0mplt\u001b[0m \u001b[1;31m# we only need pyplot\u001b[0m\u001b[1;33m\u001b[0m\u001b[1;33m\u001b[0m\u001b[0m\n",
      "\u001b[1;31mModuleNotFoundError\u001b[0m: No module named 'numpy'"
     ]
    }
   ],
   "source": [
    "# Import Basic Libraries\n",
    "import numpy as np\n",
    "import pandas as pd\n",
    "import seaborn as sb\n",
    "import matplotlib.pyplot as plt # we only need pyplot\n",
    "sb.set() # set the default Seaborn style for graphics"
   ]
  },
  {
   "cell_type": "code",
   "execution_count": null,
   "id": "7fd3c298",
   "metadata": {},
   "outputs": [],
   "source": [
    "pd.set_option('display.max_rows', None)\n",
    "\n",
    "electionInfo = pd.read_csv('election_data.csv')"
   ]
  },
  {
   "cell_type": "code",
   "execution_count": null,
   "id": "1d6a6b41",
   "metadata": {},
   "outputs": [],
   "source": [
    "# Our Focus is on Election Infomation from 1988 regarding Democrats and Republicans only\n",
    "electionData = electionInfo[(electionInfo['year'] >= 1988) & (electionInfo['party_detailed'].isin(['DEMOCRAT', 'REPUBLICAN']))]\n",
    "\n",
    "# Next Step is to filter out the columns we dont need\n",
    "filteredElection = electionData[['year','state','candidate','party_detailed','candidatevotes','totalvotes']]"
   ]
  },
  {
   "cell_type": "code",
   "execution_count": null,
   "id": "f54026f4",
   "metadata": {},
   "outputs": [],
   "source": [
    "# swing.csv Done by Aditya\n",
    "\n",
    "swingInfo = pd.read_csv('swing.csv')\n",
    "\n",
    "print(swingInfo.sort_values(by = ['state', 'year'])) # Arranges everything chronologically by state and year"
   ]
  },
  {
   "cell_type": "code",
   "execution_count": null,
   "id": "c6a64b9a",
   "metadata": {},
   "outputs": [],
   "source": [
    "group_by_state = swingInfo.groupby(\"state\").count() \n",
    "print(group_by_state) # For us to see what are the identified swing states"
   ]
  },
  {
   "cell_type": "code",
   "execution_count": null,
   "metadata": {},
   "outputs": [],
   "source": [
    "### ARIZONA ### \n",
    "\n",
    "## BarPlot side by side comparison\n",
    "swingAZ = swingInfo[(swingInfo['state'] == 'ARIZONA')]\n",
    "filterSwingAZ = swingAZ[['candidatevotes', 'party_simplified', 'year']]\n",
    "\n",
    "az = sb.barplot(x = \"year\", y = \"candidatevotes\", hue = \"party_simplified\", data = filterSwingAZ, palette = [\"red\", \"blue\"])\n",
    "az.set_xlabel('Election Year - Arizona')\n",
    "az.set_ylabel('Votes (In Millions)')\n",
    "\n",
    "### BoxPlot Votes comparison\n",
    "AZDemo = swingAZ[(swingAZ['party_simplified'].isin(['DEMOCRAT']))]\n",
    "AZRepu = swingAZ[(swingAZ['party_simplified'].isin(['REPUBLICAN']))]\n",
    "\n",
    "filterAZDemo = AZDemo[['candidatevotes']]\n",
    "filterAZRepu = AZRepu[['candidatevotes']]\n",
    "\n",
    "f, (ax1, ax2) = plt.subplots(1, 2, figsize=(20, 5))\n",
    "\n",
    "ax1.boxplot(filterAZDemo, vert=False)\n",
    "ax1.set(xlabel='Votes (In Millions)', ylabel='Democratic Votes')\n",
    "ax2.boxplot(filterAZRepu, vert=False)\n",
    "ax2.set(xlabel='Votes (In Millions)', ylabel='Republican Votes')\n",
    "\n",
    "f.suptitle('Democratic vs Republican Votes (1976 to 2020)')"
   ]
  },
  {
   "cell_type": "code",
   "execution_count": null,
   "metadata": {},
   "outputs": [],
   "source": [
    "### FLORIDA ### \n",
    "\n",
    "## BarPlot side by side comparison\n",
    "swingFLO = swingInfo[(swingInfo['state'] == 'FLORIDA')]\n",
    "filterSwingFLO = swingFLO[['candidatevotes', 'party_simplified', 'year']]\n",
    "\n",
    "az = sb.barplot(x = \"year\", y = \"candidatevotes\", hue = \"party_simplified\", data = filterSwingFLO, palette = [\"blue\", \"red\"])\n",
    "az.set_xlabel('Election Year - Florida')\n",
    "az.set_ylabel('Votes (In Millions)')\n",
    "\n",
    "### BoxPlot Votes comparison\n",
    "FLODemo = swingFLO[(swingFLO['party_simplified'].isin(['DEMOCRAT']))]\n",
    "FLORepu = swingFLO[(swingFLO['party_simplified'].isin(['REPUBLICAN']))]\n",
    "\n",
    "filterFLODemo = FLODemo[['candidatevotes']]\n",
    "filterFLORepu = FLORepu[['candidatevotes']]\n",
    "\n",
    "f, (ax1, ax2) = plt.subplots(1, 2, figsize=(20, 5))\n",
    "\n",
    "ax1.boxplot(filterFLODemo, vert=False)\n",
    "ax1.set(xlabel='Votes (In Millions)', ylabel='Democratic Votes')\n",
    "ax2.boxplot(filterFLORepu, vert=False)\n",
    "ax2.set(xlabel='Votes (In Millions)', ylabel='Republican Votes')\n",
    "\n",
    "f.suptitle('Democratic vs Republican Votes (1976 to 2020)')"
   ]
  },
  {
   "cell_type": "code",
   "execution_count": null,
   "metadata": {},
   "outputs": [],
   "source": [
    "### GEORGIA ### \n",
    "\n",
    "## BarPlot side by side comparison\n",
    "swingGEO = swingInfo[(swingInfo['state'] == 'GEORGIA')]\n",
    "filterSwingGEO = swingGEO[['candidatevotes', 'party_simplified', 'year']]\n",
    "\n",
    "az = sb.barplot(x = \"year\", y = \"candidatevotes\", hue = \"party_simplified\", data = filterSwingGEO, palette = [\"blue\", \"red\"])\n",
    "az.set_xlabel('Election Year - Georgia')\n",
    "az.set_ylabel('Votes (In Millions)')\n",
    "\n",
    "### BoxPlot Votes comparison\n",
    "GEODemo = swingGEO[(swingGEO['party_simplified'].isin(['DEMOCRAT']))]\n",
    "GEORepu = swingGEO[(swingGEO['party_simplified'].isin(['REPUBLICAN']))]\n",
    "\n",
    "filterGEODemo = GEODemo[['candidatevotes']]\n",
    "filterGEORepu = GEORepu[['candidatevotes']]\n",
    "\n",
    "f, (ax1, ax2) = plt.subplots(1, 2, figsize=(20, 5))\n",
    "\n",
    "ax1.boxplot(filterGEODemo, vert=False)\n",
    "ax1.set(xlabel='Votes (In Millions)', ylabel='Democratic Votes')\n",
    "ax2.boxplot(filterGEORepu, vert=False)\n",
    "ax2.set(xlabel='Votes (In Millions)', ylabel='Republican Votes')\n",
    "\n",
    "f.suptitle('Democratic vs Republican Votes (1976 to 2020)')"
   ]
  },
  {
   "cell_type": "code",
   "execution_count": null,
   "metadata": {},
   "outputs": [],
   "source": [
    "### MINNESOTA ### \n",
    "\n",
    "## BarPlot side by side comparison\n",
    "swingMINNE = swingInfo[(swingInfo['state'] == 'MINNESOTA')]\n",
    "filterSwingMINNE = swingMINNE[['candidatevotes', 'party_simplified', 'year']]\n",
    "\n",
    "az = sb.barplot(x = \"year\", y = \"candidatevotes\", hue = \"party_simplified\", data = filterSwingMINNE, palette = [\"blue\", \"red\"])\n",
    "az.set_xlabel('Election Year - Minnesota')\n",
    "az.set_ylabel('Votes (In Millions)')\n",
    "\n",
    "### BoxPlot Votes comparison\n",
    "MINNEDemo = swingMINNE[(swingMINNE['party_simplified'].isin(['DEMOCRAT']))]\n",
    "MINNERepu = swingMINNE[(swingMINNE['party_simplified'].isin(['REPUBLICAN']))]\n",
    "\n",
    "filterMINNEDemo = MINNEDemo[['candidatevotes']]\n",
    "filterMINNERepu = MINNERepu[['candidatevotes']]\n",
    "\n",
    "f, (ax1, ax2) = plt.subplots(1, 2, figsize=(20, 5))\n",
    "\n",
    "ax1.boxplot(filterMINNEDemo, vert=False)\n",
    "ax1.set(xlabel='Votes (In Millions)', ylabel='Democratic Votes')\n",
    "ax2.boxplot(filterMINNERepu, vert=False)\n",
    "ax2.set(xlabel='Votes (In Millions)', ylabel='Republican Votes')\n",
    "\n",
    "f.suptitle('Democratic vs Republican Votes (1976 to 2020)')"
   ]
  },
  {
   "cell_type": "code",
   "execution_count": null,
   "metadata": {},
   "outputs": [],
   "source": [
    "### NEVADA ### \n",
    "\n",
    "## BarPlot side by side comparison\n",
    "swingNEV = swingInfo[(swingInfo['state'] == 'NEVADA')]\n",
    "filterSwingNEV = swingNEV[['candidatevotes', 'party_simplified', 'year']]\n",
    "\n",
    "az = sb.barplot(x = \"year\", y = \"candidatevotes\", hue = \"party_simplified\", data = filterSwingNEV, palette = [\"red\", \"blue\"])\n",
    "az.set_xlabel('Election Year - Nevada')\n",
    "az.set_ylabel('Votes (In Thousands)')\n",
    "\n",
    "### BoxPlot Votes comparison\n",
    "NEVDemo = swingNEV[(swingNEV['party_simplified'].isin(['DEMOCRAT']))]\n",
    "NEVRepu = swingNEV[(swingNEV['party_simplified'].isin(['REPUBLICAN']))]\n",
    "\n",
    "filterNEVDemo = NEVDemo[['candidatevotes']]\n",
    "filterNEVRepu = NEVRepu[['candidatevotes']]\n",
    "\n",
    "f, (ax1, ax2) = plt.subplots(1, 2, figsize=(20, 5))\n",
    "\n",
    "ax1.boxplot(filterNEVDemo, vert=False)\n",
    "ax1.set(xlabel='Votes (In Thousands)', ylabel='Democratic Votes')\n",
    "ax2.boxplot(filterNEVRepu, vert=False)\n",
    "ax2.set(xlabel='Votes (In Thousands)', ylabel='Republican Votes')\n",
    "\n",
    "f.suptitle('Democratic vs Republican Votes (1976 to 2020)')"
   ]
  },
  {
   "cell_type": "code",
   "execution_count": null,
   "metadata": {},
   "outputs": [],
   "source": [
    "### NORTH CAROLINA ### \n",
    "\n",
    "## BarPlot side by side comparison\n",
    "swingNC = swingInfo[(swingInfo['state'] == 'NORTH CAROLINA')]\n",
    "filterSwingNC = swingNC[['candidatevotes', 'party_simplified', 'year']]\n",
    "\n",
    "az = sb.barplot(x = \"year\", y = \"candidatevotes\", hue = \"party_simplified\", data = filterSwingNC, palette = [\"blue\", \"red\"])\n",
    "az.set_xlabel('Election Year - North Carolina')\n",
    "az.set_ylabel('Votes (In Millions)')\n",
    "\n",
    "### BoxPlot Votes comparison\n",
    "NCDemo = swingNC[(swingNC['party_simplified'].isin(['DEMOCRAT']))]\n",
    "NCRepu = swingNC[(swingNC['party_simplified'].isin(['REPUBLICAN']))]\n",
    "\n",
    "filterNCDemo = NCDemo[['candidatevotes']]\n",
    "filterNCRepu = NCRepu[['candidatevotes']]\n",
    "\n",
    "f, (ax1, ax2) = plt.subplots(1, 2, figsize=(20, 5))\n",
    "\n",
    "ax1.boxplot(filterNCDemo, vert=False)\n",
    "ax1.set(xlabel='Votes (In Millions)', ylabel='Democratic Votes')\n",
    "ax2.boxplot(filterNCRepu, vert=False)\n",
    "ax2.set(xlabel='Votes (In Millions)', ylabel='Republican Votes')\n",
    "\n",
    "f.suptitle('Democratic vs Republican Votes (1976 to 2020)')"
   ]
  },
  {
   "cell_type": "code",
   "execution_count": null,
   "metadata": {},
   "outputs": [],
   "source": [
    "### PENNSYLVANIA ### \n",
    "\n",
    "## BarPlot side by side comparison\n",
    "swingPENN = swingInfo[(swingInfo['state'] == 'PENNSYLVANIA')]\n",
    "filterSwingPENN = swingPENN[['candidatevotes', 'party_simplified', 'year']]\n",
    "\n",
    "az = sb.barplot(x = \"year\", y = \"candidatevotes\", hue = \"party_simplified\", data = filterSwingPENN, palette = [\"blue\", \"red\"])\n",
    "az.set_xlabel('Election Year - Pennsylvania')\n",
    "az.set_ylabel('Votes (In Millions)')\n",
    "\n",
    "### BoxPlot Votes comparison\n",
    "PENNDemo = swingPENN[(swingPENN['party_simplified'].isin(['DEMOCRAT']))]\n",
    "PENNRepu = swingPENN[(swingPENN['party_simplified'].isin(['REPUBLICAN']))]\n",
    "\n",
    "filterPENNDemo = PENNDemo[['candidatevotes']]\n",
    "filterPENNRepu = PENNRepu[['candidatevotes']]\n",
    "\n",
    "f, (ax1, ax2) = plt.subplots(1, 2, figsize=(20, 5))\n",
    "\n",
    "ax1.boxplot(filterPENNDemo, vert=False)\n",
    "ax1.set(xlabel='Votes (In Millions)', ylabel='Democratic Votes')\n",
    "ax2.boxplot(filterPENNRepu, vert=False)\n",
    "ax2.set(xlabel='Votes (In Millions)', ylabel='Republican Votes')\n",
    "\n",
    "f.suptitle('Democratic vs Republican Votes (1976 to 2020)')"
   ]
  },
  {
   "cell_type": "code",
   "execution_count": null,
   "metadata": {},
   "outputs": [],
   "source": [
    "### WISCONSIN ### \n",
    "\n",
    "## BarPlot side by side comparison\n",
    "swingWIS = swingInfo[(swingInfo['state'] == 'WISCONSIN')]\n",
    "filterSwingWIS = swingWIS[['candidatevotes', 'party_simplified', 'year']]\n",
    "\n",
    "az = sb.barplot(x = \"year\", y = \"candidatevotes\", hue = \"party_simplified\", data = filterSwingWIS, palette = [\"blue\", \"red\"])\n",
    "az.set_xlabel('Election Year - Wisconsin')\n",
    "az.set_ylabel('Votes (In Millions)')\n",
    "\n",
    "### BoxPlot Votes comparison\n",
    "WISDemo = swingWIS[(swingWIS['party_simplified'].isin(['DEMOCRAT']))]\n",
    "WISRepu = swingWIS[(swingWIS['party_simplified'].isin(['REPUBLICAN']))]\n",
    "\n",
    "filterWISDemo = WISDemo[['candidatevotes']]\n",
    "filterWISRepu = WISRepu[['candidatevotes']]\n",
    "\n",
    "f, (ax1, ax2) = plt.subplots(1, 2, figsize=(20, 5))\n",
    "\n",
    "ax1.boxplot(filterWISDemo, vert=False)\n",
    "ax1.set(xlabel='Votes (In Millions)', ylabel='Democratic Votes')\n",
    "ax2.boxplot(filterWISRepu, vert=False)\n",
    "ax2.set(xlabel='Votes (In Millions)', ylabel='Republican Votes')\n",
    "\n",
    "f.suptitle('Democratic vs Republican Votes (1976 to 2020)')"
   ]
  },
  {
   "cell_type": "code",
   "execution_count": null,
   "metadata": {},
   "outputs": [],
   "source": []
  }
 ],
 "metadata": {
  "interpreter": {
   "hash": "80cb53ab7a589819f433081707ffe15860be16419b9e121b7bf89648b57a9b4f"
  },
  "kernelspec": {
   "display_name": "Python 3.9.7 64-bit (windows store)",
   "name": "python3"
  },
  "language_info": {
   "codemirror_mode": {
    "name": "ipython",
    "version": 3
   },
   "file_extension": ".py",
   "mimetype": "text/x-python",
   "name": "python",
   "nbconvert_exporter": "python",
   "pygments_lexer": "ipython3",
   "version": "3.9.7"
  }
 },
 "nbformat": 4,
 "nbformat_minor": 5
}
