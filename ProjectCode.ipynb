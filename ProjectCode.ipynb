{
 "cells": [
  {
   "cell_type": "code",
   "execution_count": null,
   "id": "ddfd7429",
   "metadata": {},
   "outputs": [],
   "source": [
    "# Import Basic Libraries\n",
    "import numpy as np\n",
    "import pandas as pd\n",
    "import seaborn as sb\n",
    "import matplotlib.pyplot as plt # we only need pyplot\n",
    "sb.set() # set the default Seaborn style for graphics"
   ]
  },
  {
   "cell_type": "code",
   "execution_count": null,
   "id": "07d8cfd9",
   "metadata": {},
   "outputs": [],
   "source": [
    "electionInfo = pd.read_csv('election_data.csv')\n",
    "senateInfo = pd.read_csv('senate_data.csv')"
   ]
  },
  {
   "cell_type": "code",
   "execution_count": null,
   "id": "ddca167f",
   "metadata": {},
   "outputs": [],
   "source": [
    "# Our Focus is on Election Infomation from 1988 regarding Democrats and Republicans only\n",
    "electionData = electionInfo[(electionInfo['year'] >= 1988) & (electionInfo['party_detailed'].isin(['DEMOCRAT', 'REPUBLICAN']))]\n",
    "\n",
    "# Next Step is to filter out the columns we dont need\n",
    "filteredElection = electionData[['year','state','state_po','candidate','party_detailed','candidatevotes','totalvotes']]\n",
    "\n",
    "print('\\nFiltered Election Dataframe :\\n', filteredElection)"
   ]
  },
  {
   "cell_type": "code",
   "execution_count": null,
   "id": "fe2f15bb",
   "metadata": {},
   "outputs": [],
   "source": [
    "# Our Focus is on Election Infomation from 1988 regarding Democrats and Republicans only\n",
    "senateData = electionInfo[(electionInfo['year'] >= 1988) & (electionInfo['party_detailed'].isin(['DEMOCRAT', 'REPUBLICAN']))]\n",
    "\n",
    "# Next Step is to filter out the columns we dont need\n",
    "filteredSenate = senateData[['year','state','state_po','candidate','party_detailed','candidatevotes','totalvotes']]\n",
    "\n",
    "print('\\nFiltered Senate Dataframe :\\n', filteredSenate)"
   ]
  },
  {
   "cell_type": "code",
   "execution_count": null,
   "id": "0a742d47",
   "metadata": {},
   "outputs": [],
   "source": []
  }
 ],
 "metadata": {
  "kernelspec": {
   "display_name": "Python 3",
   "language": "python",
   "name": "python3"
  },
  "language_info": {
   "codemirror_mode": {
    "name": "ipython",
    "version": 3
   },
   "file_extension": ".py",
   "mimetype": "text/x-python",
   "name": "python",
   "nbconvert_exporter": "python",
   "pygments_lexer": "ipython3",
   "version": "3.8.8"
  }
 },
 "nbformat": 4,
 "nbformat_minor": 5
}
