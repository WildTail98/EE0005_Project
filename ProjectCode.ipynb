{
 "cells": [
  {
   "cell_type": "code",
   "execution_count": null,
   "id": "4164c468",
   "metadata": {},
   "outputs": [],
   "source": [
    "# Import Basic Libraries\n",
    "import numpy as np\n",
    "import pandas as pd\n",
    "import seaborn as sb\n",
    "import matplotlib.pyplot as plt # we only need pyplot\n",
    "sb.set() # set the default Seaborn style for graphics"
   ]
  },
  {
   "cell_type": "code",
   "execution_count": null,
   "id": "7fd3c298",
   "metadata": {},
   "outputs": [],
   "source": [
    "pd.set_option('display.max_rows', None)\n",
    "\n",
    "electionInfo = pd.read_csv('election_data.csv')\n",
    "swingInfo = pd.read_csv('swing.csv')"
   ]
  },
  {
   "cell_type": "code",
   "execution_count": null,
   "id": "1d6a6b41",
   "metadata": {},
   "outputs": [],
   "source": [
    "# Our Focus is on Election Infomation from 1988 regarding Democrats and Republicans only\n",
    "electionData = electionInfo[(electionInfo['year'] >= 1988) & (electionInfo['party_detailed'].isin(['DEMOCRAT', 'REPUBLICAN']))]\n",
    "\n",
    "# Next Step is to filter out the columns we dont need\n",
    "filteredElection = electionData[['year','state','candidate','party_detailed','candidatevotes','totalvotes']]\n",
    "\n",
    "print('\\nFiltered Election Dataframe :\\n', filteredElection)"
   ]
  },
  {
   "cell_type": "code",
   "execution_count": null,
   "id": "f54026f4",
   "metadata": {},
   "outputs": [],
   "source": [
    "print(swingInfo.sort_values(by = ['state', 'year'])) # Arranges everything chronologically by state and year"
   ]
  },
  {
   "cell_type": "code",
   "execution_count": null,
   "id": "c6a64b9a",
   "metadata": {},
   "outputs": [],
   "source": [
    "group_by_state = swingInfo.groupby(\"state\").count() \n",
    "print(group_by_state) # For us to see what are the identified swing states"
   ]
  },
  {
   "cell_type": "code",
   "execution_count": null,
   "metadata": {},
   "outputs": [],
   "source": [
    "# Filter the swingInfo based on the candidate being a DEMOCRAT, and select only needed columns\n",
    "swingDemocratic = swingInfo[(swingInfo['party_simplified'] == 'DEMOCRAT')]\n",
    "\n",
    "filterDemocratic = swingDemocratic[['year', 'state', 'candidatevotes','candidate' ]] \n",
    "print(filterDemocratic)"
   ]
  },
  {
   "cell_type": "code",
   "execution_count": null,
   "metadata": {},
   "outputs": [],
   "source": [
    "# Filter the swingInfo based on the candidate being a REPUBLICAN, and select only needed columns\n",
    "swingRepublican = swingInfo[(swingInfo['party_simplified'] == 'REPUBLICAN')]\n",
    "\n",
    "filterRepublican = swingRepublican[['year', 'state', 'candidatevotes','candidate' ]] \n",
    "print(filterRepublican)"
   ]
  },
  {
   "cell_type": "code",
   "execution_count": null,
   "metadata": {},
   "outputs": [],
   "source": []
  }
 ],
 "metadata": {
  "interpreter": {
   "hash": "80cb53ab7a589819f433081707ffe15860be16419b9e121b7bf89648b57a9b4f"
  },
  "kernelspec": {
   "display_name": "Python 3.9.7 64-bit (windows store)",
   "name": "python3"
  },
  "language_info": {
   "codemirror_mode": {
    "name": "ipython",
    "version": 3
   },
   "file_extension": ".py",
   "mimetype": "text/x-python",
   "name": "python",
   "nbconvert_exporter": "python",
   "pygments_lexer": "ipython3",
   "version": "3.9.7"
  }
 },
 "nbformat": 4,
 "nbformat_minor": 5
}
