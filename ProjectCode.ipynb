{
 "cells": [
  {
   "cell_type": "code",
   "execution_count": null,
   "id": "4164c468",
   "metadata": {},
   "outputs": [],
   "source": [
    "# Import Basic Libraries\n",
    "import numpy as np\n",
    "import pandas as pd\n",
    "import seaborn as sb\n",
    "import matplotlib.pyplot as plt # we only need pyplot\n",
    "sb.set() # set the default Seaborn style for graphics"
   ]
  },
  {
   "cell_type": "code",
   "execution_count": null,
   "id": "7fd3c298",
   "metadata": {},
   "outputs": [],
   "source": [
    "electionInfo = pd.read_csv('election_data.csv')"
   ]
  },
  {
   "cell_type": "code",
   "execution_count": null,
   "id": "1d6a6b41",
   "metadata": {},
   "outputs": [],
   "source": [
    "# Our Focus is on Election Infomation from 1988 regarding Democrats and Republicans only\n",
    "electionData = electionInfo[(electionInfo['year'] >= 1988) & (electionInfo['party_detailed'].isin(['DEMOCRAT', 'REPUBLICAN']))]\n",
    "\n",
    "# Next Step is to filter out the columns we dont need\n",
    "filteredElection = electionData[['year','state','candidate','party_detailed','candidatevotes','totalvotes']]\n",
    "\n",
    "print('\\nFiltered Election Dataframe :\\n', filteredElection)"
   ]
  },
  {
   "cell_type": "code",
   "execution_count": null,
   "id": "f54026f4",
   "metadata": {},
   "outputs": [],
   "source": []
  },
  {
   "cell_type": "code",
   "execution_count": null,
   "id": "c6a64b9a",
   "metadata": {},
   "outputs": [],
   "source": []
  },
  {
   "cell_type": "code",
   "execution_count": null,
   "metadata": {},
   "outputs": [],
   "source": []
  }
 ],
 "metadata": {
  "kernelspec": {
   "display_name": "Python 3",
   "language": "python",
   "name": "python3"
  },
  "language_info": {
   "codemirror_mode": {
    "name": "ipython",
    "version": 3
   },
   "file_extension": ".py",
   "mimetype": "text/x-python",
   "name": "python",
   "nbconvert_exporter": "python",
   "pygments_lexer": "ipython3",
   "version": "3.8.8"
  }
 },
 "nbformat": 4,
 "nbformat_minor": 5
}
