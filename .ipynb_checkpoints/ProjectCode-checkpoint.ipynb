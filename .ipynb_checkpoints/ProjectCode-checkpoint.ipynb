{
 "cells": [
  {
   "cell_type": "code",
   "execution_count": 1,
   "id": "ddfd7429",
   "metadata": {},
   "outputs": [],
   "source": [
    "# Import Basic Libraries\n",
    "import numpy as np\n",
    "import pandas as pd\n",
    "import seaborn as sb\n",
    "import matplotlib.pyplot as plt # we only need pyplot\n",
    "sb.set() # set the default Seaborn style for graphics"
   ]
  },
  {
   "cell_type": "code",
   "execution_count": 2,
   "id": "07d8cfd9",
   "metadata": {},
   "outputs": [],
   "source": [
    "electionInfo = pd.read_csv('election_data.csv')\n",
    "senateInfo = pd.read_csv('senate_data.csv')"
   ]
  },
  {
   "cell_type": "code",
   "execution_count": 3,
   "id": "ddca167f",
   "metadata": {},
   "outputs": [
    {
     "name": "stdout",
     "output_type": "stream",
     "text": [
      "\n",
      "Filtered Election Dataframe :\n",
      "       year          state state_po            candidate party_detailed  \\\n",
      "1019  1988        ALABAMA       AL    BUSH, GEORGE H.W.     REPUBLICAN   \n",
      "1020  1988        ALABAMA       AL     DUKAKIS, MICHAEL       DEMOCRAT   \n",
      "1024  1988         ALASKA       AK    BUSH, GEORGE H.W.     REPUBLICAN   \n",
      "1025  1988         ALASKA       AK     DUKAKIS, MICHAEL       DEMOCRAT   \n",
      "1030  1988        ARIZONA       AZ    BUSH, GEORGE H.W.     REPUBLICAN   \n",
      "...    ...            ...      ...                  ...            ...   \n",
      "4264  2020  WEST VIRGINIA       WV     TRUMP, DONALD J.     REPUBLICAN   \n",
      "4267  2020      WISCONSIN       WI  BIDEN, JOSEPH R. JR       DEMOCRAT   \n",
      "4268  2020      WISCONSIN       WI     TRUMP, DONALD J.     REPUBLICAN   \n",
      "4280  2020        WYOMING       WY  BIDEN, JOSEPH R. JR       DEMOCRAT   \n",
      "4281  2020        WYOMING       WY     TRUMP, DONALD J.     REPUBLICAN   \n",
      "\n",
      "      candidatevotes  totalvotes  \n",
      "1019          815576     1378476  \n",
      "1020          549506     1378476  \n",
      "1024          119251      200116  \n",
      "1025           72584      200116  \n",
      "1030          702541     1171873  \n",
      "...              ...         ...  \n",
      "4264          545382      794652  \n",
      "4267         1630866     3298041  \n",
      "4268         1610184     3298041  \n",
      "4280           73491      278503  \n",
      "4281          193559      278503  \n",
      "\n",
      "[919 rows x 7 columns]\n"
     ]
    }
   ],
   "source": [
    "# Our Focus is on Election Infomation from 1988 regarding Democrats and Republicans only\n",
    "electionData = electionInfo[(electionInfo['year'] >= 1988) & (electionInfo['party_detailed'].isin(['DEMOCRAT', 'REPUBLICAN']))]\n",
    "\n",
    "# Next Step is to filter out the columns we dont need\n",
    "filteredElection = electionData[['year','state','state_po','candidate','party_detailed','candidatevotes','totalvotes']]\n",
    "\n",
    "print('\\nFiltered Election Dataframe :\\n', filteredElection)"
   ]
  },
  {
   "cell_type": "code",
   "execution_count": 4,
   "id": "fe2f15bb",
   "metadata": {},
   "outputs": [
    {
     "name": "stdout",
     "output_type": "stream",
     "text": [
      "\n",
      "Filtered Senate Dataframe :\n",
      "       year          state state_po            candidate party_detailed  \\\n",
      "1019  1988        ALABAMA       AL    BUSH, GEORGE H.W.     REPUBLICAN   \n",
      "1020  1988        ALABAMA       AL     DUKAKIS, MICHAEL       DEMOCRAT   \n",
      "1024  1988         ALASKA       AK    BUSH, GEORGE H.W.     REPUBLICAN   \n",
      "1025  1988         ALASKA       AK     DUKAKIS, MICHAEL       DEMOCRAT   \n",
      "1030  1988        ARIZONA       AZ    BUSH, GEORGE H.W.     REPUBLICAN   \n",
      "...    ...            ...      ...                  ...            ...   \n",
      "4264  2020  WEST VIRGINIA       WV     TRUMP, DONALD J.     REPUBLICAN   \n",
      "4267  2020      WISCONSIN       WI  BIDEN, JOSEPH R. JR       DEMOCRAT   \n",
      "4268  2020      WISCONSIN       WI     TRUMP, DONALD J.     REPUBLICAN   \n",
      "4280  2020        WYOMING       WY  BIDEN, JOSEPH R. JR       DEMOCRAT   \n",
      "4281  2020        WYOMING       WY     TRUMP, DONALD J.     REPUBLICAN   \n",
      "\n",
      "      candidatevotes  totalvotes  \n",
      "1019          815576     1378476  \n",
      "1020          549506     1378476  \n",
      "1024          119251      200116  \n",
      "1025           72584      200116  \n",
      "1030          702541     1171873  \n",
      "...              ...         ...  \n",
      "4264          545382      794652  \n",
      "4267         1630866     3298041  \n",
      "4268         1610184     3298041  \n",
      "4280           73491      278503  \n",
      "4281          193559      278503  \n",
      "\n",
      "[919 rows x 7 columns]\n"
     ]
    }
   ],
   "source": [
    "# Our Focus is on Election Infomation from 1988 regarding Democrats and Republicans only\n",
    "senateData = electionInfo[(electionInfo['year'] >= 1988) & (electionInfo['party_detailed'].isin(['DEMOCRAT', 'REPUBLICAN']))]\n",
    "\n",
    "# Next Step is to filter out the columns we dont need\n",
    "filteredSenate = senateData[['year','state','state_po','candidate','party_detailed','candidatevotes','totalvotes']]\n",
    "\n",
    "print('\\nFiltered Senate Dataframe :\\n', filteredSenate)"
   ]
  },
  {
   "cell_type": "code",
   "execution_count": null,
   "id": "0a742d47",
   "metadata": {},
   "outputs": [],
   "source": []
  }
 ],
 "metadata": {
  "kernelspec": {
   "display_name": "Python 3",
   "language": "python",
   "name": "python3"
  },
  "language_info": {
   "codemirror_mode": {
    "name": "ipython",
    "version": 3
   },
   "file_extension": ".py",
   "mimetype": "text/x-python",
   "name": "python",
   "nbconvert_exporter": "python",
   "pygments_lexer": "ipython3",
   "version": "3.8.8"
  }
 },
 "nbformat": 4,
 "nbformat_minor": 5
}
